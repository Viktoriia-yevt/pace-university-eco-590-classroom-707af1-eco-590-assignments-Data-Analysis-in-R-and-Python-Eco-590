{
 "cells": [
  {
   "cell_type": "markdown",
   "metadata": {},
   "source": [
    "![](https://media.giphy.com/media/JWuBH9rCO2uZuHBFpm/giphy.gif)\n",
    "\n",
    "Remember the rules of ~Fight~ Code Club:\n",
    "1. ALWAYS DOCUMENT\n",
    "2. Cite resources that you use (paste links)\n",
    "3. Include the names people who you worked with\n",
    "4. Be neat and organized"
   ]
  },
  {
   "cell_type": "markdown",
   "metadata": {},
   "source": [
    "### Question 1\n",
    "\n",
    "Use the [pokeAPI](https://pokeapi.co/)\n",
    "\n",
    "1. Find out information about the Pokemon \"tyranitar\":\n",
    "- What is its type(s)?\n",
    "- What is its abilities?\n",
    "\n",
    "2. How many pokemon are \"dragon\" type?\n",
    "\n",
    "You must use python and apply the GET method via their API to display this information."
   ]
  },
  {
   "cell_type": "code",
   "execution_count": 25,
   "metadata": {},
   "outputs": [
    {
     "data": {
      "text/plain": [
       "['rock', 'dark']"
      ]
     },
     "execution_count": 25,
     "metadata": {},
     "output_type": "execute_result"
    }
   ],
   "source": [
    "import requests  \n",
    "\n",
    "# defining url for tyranitar \n",
    "url = \"https://pokeapi.co/api/v2/pokemon/tyranitar\"\n",
    "\n",
    "# get request\n",
    "response = requests.get(url).json()  \n",
    "\n",
    "# Task 1 \n",
    "# types\n",
    "types = [t['type']['name'] for t in response['types']]  # Get all types in a list\n",
    "types\n"
   ]
  },
  {
   "cell_type": "code",
   "execution_count": 27,
   "metadata": {},
   "outputs": [
    {
     "data": {
      "text/plain": [
       "['sand-stream', 'unnerve']"
      ]
     },
     "execution_count": 27,
     "metadata": {},
     "output_type": "execute_result"
    }
   ],
   "source": [
    "# abilities \n",
    "abilities = [a['ability']['name'] for a in response['abilities']]\n",
    "abilities\n"
   ]
  },
  {
   "cell_type": "code",
   "execution_count": 33,
   "metadata": {},
   "outputs": [
    {
     "data": {
      "text/plain": [
       "107"
      ]
     },
     "execution_count": 33,
     "metadata": {},
     "output_type": "execute_result"
    }
   ],
   "source": [
    "# Task 2 \n",
    "#dragon type \n",
    "\n",
    "# defoning new irl for dragon type\n",
    "url1 = \"https://pokeapi.co/api/v2/type/dragon\"\n",
    "\n",
    "# converting to json\n",
    "response1 = requests.get(url1).json()\n",
    "\n",
    "dragon_count = len(response1['pokemon'])\n",
    "dragon_count"
   ]
  },
  {
   "cell_type": "markdown",
   "metadata": {},
   "source": [
    "### Question 2\n",
    "\n",
    "Use the [Open Air Quality API](https://docs.openaq.org/)\n",
    "\n",
    "Hint: typically queries need a ? in the url\n",
    "\n",
    "Find out how much ozone and carbon monoxide there is near CCNY. Use the most recent date that you pull the information.\n",
    "\n",
    "You must use python and apply the GET method via their API and display this information."
   ]
  },
  {
   "cell_type": "code",
   "execution_count": 111,
   "metadata": {},
   "outputs": [
    {
     "name": "stdout",
     "output_type": "stream",
     "text": [
      "0.038\n",
      "3.2\n"
     ]
    }
   ],
   "source": [
    "import requests  \n",
    "import pandas as pd\n",
    "\n",
    "# I wasn't sure how to find location key. I foud CCNY thought map on the Open Air website, then copied url that included the location code \n",
    "url = \"https://api.openaq.org/v3/locations/384/latest\" \n",
    "\n",
    "# registered to get my API key \n",
    "headers = {\"X-API-Key\" : \"22b92d750e73923d575a41e16d3e8094d0ca609d9397f683cc8b21a52d5b5340\"}\n",
    "\n",
    "# GET request\n",
    "response = requests.get(url, headers = headers)\n",
    "\n",
    "# converted to json\n",
    "df = response.json()\n",
    "\n",
    "info = [x['value'] for x in df['results']]\n",
    "ozone = info[1]\n",
    "carbon = info[0]\n",
    "\n",
    "print(ozone)\n",
    "print(carbon)"
   ]
  },
  {
   "cell_type": "markdown",
   "metadata": {},
   "source": [
    "### Question 3\n",
    "\n",
    "Use the [Open Air Quality API](https://docs.openaq.org/)\n",
    "\n",
    "Hint: typically queries need a ? in the url. Note that cities that need a space use a %20 between them (ie Los%20Angeles). Make sure that when you request information about a measurement that you are using a url that can do this for you.\n",
    "\n",
    "First find out what the parameter id is of 'Particulate matter less than 25 micrometers in diameter.'\n",
    "\n",
    "Then, find out how much 'Particulate matter less than 25 micrometers in diameter' there is in:\n",
    "- Beijing\n",
    "- Addis Ababa\n",
    "- Dushanbe\n",
    "\n",
    "Bonus points if you can aggregate this information in one table.\n",
    "\n",
    "You must use python and apply the GET method via their API and display this information.\n",
    "\n"
   ]
  },
  {
   "cell_type": "code",
   "execution_count": 135,
   "metadata": {},
   "outputs": [
    {
     "name": "stdout",
     "output_type": "stream",
     "text": [
      "[150.0, 0.012] [22.0] [54.0]\n"
     ]
    }
   ],
   "source": [
    "import requests  \n",
    "import pandas as pd\n",
    "\n",
    "# same as in Q2, for new locations\n",
    "beijing = \"https://api.openaq.org/v3/locations/8833/latest\" \n",
    "abada = \"https://api.openaq.org/v3/locations/235169/latest\" \n",
    "dushanbe = \"https://api.openaq.org/v3/locations/8684/latest\" \n",
    "\n",
    "headers = {\"X-API-Key\" : \"22b92d750e73923d575a41e16d3e8094d0ca609d9397f683cc8b21a52d5b5340\"}\n",
    "\n",
    "# GET request\n",
    "resbeijing = requests.get(beijing, headers = headers)\n",
    "resabada = requests.get(abada, headers = headers)\n",
    "resdushanbe = requests.get(dushanbe, headers = headers)\n",
    "\n",
    "# json format \n",
    "df1 = resbeijing.json()\n",
    "df2 = resabada.json() \n",
    "df3 = resdushanbe.json()\n",
    "\n",
    "info1 = [x['value'] for x in df1['results']]\n",
    "info2 = [x['value'] for x in df2['results']]\n",
    "info3 = [x['value'] for x in df3['results']]\n",
    "\n",
    "print(info1, info2, info3)\n",
    "\n",
    "\n",
    "# Harvey and Giancarlo helped me with Q2 and Q3"
   ]
  }
 ],
 "metadata": {
  "kernelspec": {
   "display_name": "Python [conda env:base] *",
   "language": "python",
   "name": "conda-base-py"
  },
  "language_info": {
   "codemirror_mode": {
    "name": "ipython",
    "version": 3
   },
   "file_extension": ".py",
   "mimetype": "text/x-python",
   "name": "python",
   "nbconvert_exporter": "python",
   "pygments_lexer": "ipython3",
   "version": "3.12.7"
  }
 },
 "nbformat": 4,
 "nbformat_minor": 4
}
